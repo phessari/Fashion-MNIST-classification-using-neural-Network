{
 "cells": [
  {
   "cell_type": "markdown",
   "metadata": {},
   "source": [
    "We consider Fashion MNIST. It has 70,000 grayscale images of 28×28 pixels each, with 10 classes,\n",
    "\n",
    "\"T-shirt/top\", \"Trouser\", \"Pullover\", \"Dress\", \"Coat\", \"Sandal\", \"Shirt\", \"Sneaker\", \"Bag\", \"Ankle boot\""
   ]
  },
  {
   "cell_type": "code",
   "execution_count": 5,
   "metadata": {},
   "outputs": [
    {
     "name": "stdout",
     "output_type": "stream",
     "text": [
      "(60000, 28, 28)\n",
      "(10000, 28, 28)\n"
     ]
    }
   ],
   "source": [
    "from keras.datasets import fashion_mnist\n",
    "\n",
    "(X_train1, y_train1), (X_test, y_test) = fashion_mnist.load_data()\n",
    "print(X_train1.shape)\n",
    "print(X_test.shape)"
   ]
  },
  {
   "cell_type": "markdown",
   "metadata": {},
   "source": [
    "Note that the data are of matrix form and integer type!\n",
    "\n",
    "We create validation set and normalize the features"
   ]
  },
  {
   "cell_type": "code",
   "execution_count": 6,
   "metadata": {},
   "outputs": [],
   "source": [
    "X_valid, y_valid = X_train1[:5000]/255.0, y_train1[:5000]\n",
    "X_train, y_train = X_train1[5000:]/255.0, y_train1[5000:]"
   ]
  },
  {
   "cell_type": "code",
   "execution_count": 8,
   "metadata": {},
   "outputs": [],
   "source": [
    "class_names = [\"T-shirt/top\", \"Trouser\", \"Pullover\", \"Dress\", \"Coat\", \"Sandal\", \"Shirt\", \"Sneaker\", \"Bag\", \"Ankle boot\"]"
   ]
  },
  {
   "cell_type": "markdown",
   "metadata": {},
   "source": [
    "# Modeling"
   ]
  },
  {
   "cell_type": "code",
   "execution_count": 12,
   "metadata": {},
   "outputs": [],
   "source": [
    "from keras.models import Sequential\n",
    "from keras.layers import Dense, Flatten"
   ]
  },
  {
   "cell_type": "code",
   "execution_count": 14,
   "metadata": {},
   "outputs": [],
   "source": [
    "model = Sequential(\n",
    "                  [Flatten(input_shape=[28, 28]),    # vectorize the matrix input     \n",
    "                   Dense(300, activation='relu'),    # first hidden layer with 300 neuron and RELU activation function\n",
    "                   Dense(100, activation='relu'),    # second hiden layer with 100 neuron and RELU activation function\n",
    "                   Dense(10, activation='softmax')   # output layer with 10 neuron (10 classes) and softmax activation function\n",
    "                   ])"
   ]
  },
  {
   "cell_type": "markdown",
   "metadata": {},
   "source": [
    "We can see the model info using summary(). It shows number of units and parameters in each layer. For examle, in the first hidden layer, we have 300 units. With 28\\*28 feature vector the number of parameters is 300\\*(28\\*28+1). 1 is for bias unit."
   ]
  },
  {
   "cell_type": "code",
   "execution_count": 16,
   "metadata": {},
   "outputs": [
    {
     "name": "stdout",
     "output_type": "stream",
     "text": [
      "Model: \"sequential_2\"\n",
      "_________________________________________________________________\n",
      "Layer (type)                 Output Shape              Param #   \n",
      "=================================================================\n",
      "flatten_2 (Flatten)          (None, 784)               0         \n",
      "_________________________________________________________________\n",
      "dense_4 (Dense)              (None, 300)               235500    \n",
      "_________________________________________________________________\n",
      "dense_5 (Dense)              (None, 100)               30100     \n",
      "_________________________________________________________________\n",
      "dense_6 (Dense)              (None, 10)                1010      \n",
      "=================================================================\n",
      "Total params: 266,610\n",
      "Trainable params: 266,610\n",
      "Non-trainable params: 0\n",
      "_________________________________________________________________\n"
     ]
    }
   ],
   "source": [
    "model.summary()"
   ]
  },
  {
   "cell_type": "markdown",
   "metadata": {},
   "source": [
    "We now need to define the loss function, optimizer and some metric to evaluate the model. All can be done by compiling the model"
   ]
  },
  {
   "cell_type": "code",
   "execution_count": 18,
   "metadata": {},
   "outputs": [],
   "source": [
    "model.compile(\n",
    "            loss=\"sparse_categorical_crossentropy\",  # multi-class classificatio\n",
    "            optimizer = 'sgd',                       # stocatstic gradient descent algorithm\n",
    "            metrics=['accuracy'])                    "
   ]
  },
  {
   "cell_type": "markdown",
   "metadata": {},
   "source": [
    "# Training"
   ]
  },
  {
   "cell_type": "code",
   "execution_count": 20,
   "metadata": {},
   "outputs": [
    {
     "name": "stdout",
     "output_type": "stream",
     "text": [
      "Train on 55000 samples, validate on 5000 samples\n",
      "Epoch 1/30\n",
      "55000/55000 [==============================] - 4s 79us/step - loss: 0.2263 - accuracy: 0.9196 - val_loss: 0.2897 - val_accuracy: 0.8982\n",
      "Epoch 2/30\n",
      "55000/55000 [==============================] - 5s 82us/step - loss: 0.2226 - accuracy: 0.9203 - val_loss: 0.2895 - val_accuracy: 0.8944\n",
      "Epoch 3/30\n",
      "55000/55000 [==============================] - 4s 73us/step - loss: 0.2184 - accuracy: 0.9218 - val_loss: 0.2975 - val_accuracy: 0.8924\n",
      "Epoch 4/30\n",
      "55000/55000 [==============================] - 4s 74us/step - loss: 0.2147 - accuracy: 0.9229 - val_loss: 0.3059 - val_accuracy: 0.8880\n",
      "Epoch 5/30\n",
      "55000/55000 [==============================] - 4s 78us/step - loss: 0.2125 - accuracy: 0.9234 - val_loss: 0.2924 - val_accuracy: 0.8918\n",
      "Epoch 6/30\n",
      "55000/55000 [==============================] - 4s 69us/step - loss: 0.2088 - accuracy: 0.9264 - val_loss: 0.2829 - val_accuracy: 0.8966\n",
      "Epoch 7/30\n",
      "55000/55000 [==============================] - 4s 72us/step - loss: 0.2045 - accuracy: 0.9271 - val_loss: 0.2831 - val_accuracy: 0.8988\n",
      "Epoch 8/30\n",
      "55000/55000 [==============================] - 4s 72us/step - loss: 0.2020 - accuracy: 0.9286 - val_loss: 0.3077 - val_accuracy: 0.8870\n",
      "Epoch 9/30\n",
      "55000/55000 [==============================] - 4s 74us/step - loss: 0.1997 - accuracy: 0.9287 - val_loss: 0.2883 - val_accuracy: 0.8976\n",
      "Epoch 10/30\n",
      "55000/55000 [==============================] - 4s 69us/step - loss: 0.1959 - accuracy: 0.9305 - val_loss: 0.3172 - val_accuracy: 0.8830\n",
      "Epoch 11/30\n",
      "55000/55000 [==============================] - 4s 72us/step - loss: 0.1930 - accuracy: 0.9311 - val_loss: 0.2906 - val_accuracy: 0.8906\n",
      "Epoch 12/30\n",
      "55000/55000 [==============================] - 4s 80us/step - loss: 0.1902 - accuracy: 0.9323 - val_loss: 0.2981 - val_accuracy: 0.8926\n",
      "Epoch 13/30\n",
      "55000/55000 [==============================] - 4s 68us/step - loss: 0.1874 - accuracy: 0.9329 - val_loss: 0.3033 - val_accuracy: 0.8848\n",
      "Epoch 14/30\n",
      "55000/55000 [==============================] - 4s 68us/step - loss: 0.1844 - accuracy: 0.9356 - val_loss: 0.2976 - val_accuracy: 0.8934\n",
      "Epoch 15/30\n",
      "55000/55000 [==============================] - 4s 75us/step - loss: 0.1818 - accuracy: 0.9353 - val_loss: 0.2853 - val_accuracy: 0.8960\n",
      "Epoch 16/30\n",
      "55000/55000 [==============================] - 4s 72us/step - loss: 0.1793 - accuracy: 0.9364 - val_loss: 0.2972 - val_accuracy: 0.8942\n",
      "Epoch 17/30\n",
      "55000/55000 [==============================] - 4s 78us/step - loss: 0.1769 - accuracy: 0.9377 - val_loss: 0.2781 - val_accuracy: 0.9004\n",
      "Epoch 18/30\n",
      "55000/55000 [==============================] - 4s 73us/step - loss: 0.1729 - accuracy: 0.9383 - val_loss: 0.3022 - val_accuracy: 0.8918\n",
      "Epoch 19/30\n",
      "55000/55000 [==============================] - 4s 79us/step - loss: 0.1716 - accuracy: 0.9401 - val_loss: 0.2775 - val_accuracy: 0.9028\n",
      "Epoch 20/30\n",
      "55000/55000 [==============================] - 4s 68us/step - loss: 0.1687 - accuracy: 0.9393 - val_loss: 0.3111 - val_accuracy: 0.8888\n",
      "Epoch 21/30\n",
      "55000/55000 [==============================] - 4s 75us/step - loss: 0.1656 - accuracy: 0.9411 - val_loss: 0.3111 - val_accuracy: 0.8892\n",
      "Epoch 22/30\n",
      "55000/55000 [==============================] - 4s 77us/step - loss: 0.1634 - accuracy: 0.9415 - val_loss: 0.2949 - val_accuracy: 0.8940\n",
      "Epoch 23/30\n",
      "55000/55000 [==============================] - 4s 80us/step - loss: 0.1607 - accuracy: 0.9439 - val_loss: 0.3189 - val_accuracy: 0.8870\n",
      "Epoch 24/30\n",
      "55000/55000 [==============================] - 4s 77us/step - loss: 0.1572 - accuracy: 0.9450 - val_loss: 0.2986 - val_accuracy: 0.8978\n",
      "Epoch 25/30\n",
      "55000/55000 [==============================] - 4s 80us/step - loss: 0.1558 - accuracy: 0.9452 - val_loss: 0.2954 - val_accuracy: 0.8940\n",
      "Epoch 26/30\n",
      "55000/55000 [==============================] - 4s 78us/step - loss: 0.1537 - accuracy: 0.9465 - val_loss: 0.2981 - val_accuracy: 0.8924\n",
      "Epoch 27/30\n",
      "55000/55000 [==============================] - 4s 72us/step - loss: 0.1506 - accuracy: 0.9477 - val_loss: 0.3021 - val_accuracy: 0.8960\n",
      "Epoch 28/30\n",
      "55000/55000 [==============================] - 3s 63us/step - loss: 0.1482 - accuracy: 0.9479 - val_loss: 0.2856 - val_accuracy: 0.8958\n",
      "Epoch 29/30\n",
      "55000/55000 [==============================] - 4s 71us/step - loss: 0.1460 - accuracy: 0.9482 - val_loss: 0.3185 - val_accuracy: 0.8854\n",
      "Epoch 30/30\n",
      "55000/55000 [==============================] - 4s 76us/step - loss: 0.1433 - accuracy: 0.9495 - val_loss: 0.3022 - val_accuracy: 0.8950\n"
     ]
    }
   ],
   "source": [
    "history = model.fit(X_train, y_train, epochs=30, validation_data=(X_valid, y_valid))"
   ]
  },
  {
   "cell_type": "markdown",
   "metadata": {},
   "source": [
    "The accuracy on training set is 94.95% and on validation set is 89.5% which is good!"
   ]
  },
  {
   "cell_type": "code",
   "execution_count": 21,
   "metadata": {},
   "outputs": [
    {
     "data": {
      "text/plain": [
       "{'val_loss': [0.28968710760474203,\n",
       "  0.28947549964785574,\n",
       "  0.2974525733202696,\n",
       "  0.30593549649715424,\n",
       "  0.29235944193005564,\n",
       "  0.2829130459547043,\n",
       "  0.283090737336874,\n",
       "  0.3076669326066971,\n",
       "  0.2883341287791729,\n",
       "  0.3172474097073078,\n",
       "  0.29063725994974376,\n",
       "  0.2981434750914574,\n",
       "  0.30333364070802926,\n",
       "  0.2975735347509384,\n",
       "  0.2852647826552391,\n",
       "  0.29724177500009535,\n",
       "  0.2780705550342798,\n",
       "  0.30219612251520156,\n",
       "  0.27746986013799907,\n",
       "  0.31114451722502706,\n",
       "  0.31112232922315597,\n",
       "  0.2948711484134197,\n",
       "  0.3188945025533438,\n",
       "  0.29863573335409166,\n",
       "  0.29537142882049083,\n",
       "  0.29808478766977786,\n",
       "  0.30210550267398356,\n",
       "  0.28555410170704126,\n",
       "  0.3184716885969043,\n",
       "  0.3022170447409153],\n",
       " 'val_accuracy': [0.8981999754905701,\n",
       "  0.8944000005722046,\n",
       "  0.8924000263214111,\n",
       "  0.8880000114440918,\n",
       "  0.8917999863624573,\n",
       "  0.8966000080108643,\n",
       "  0.8988000154495239,\n",
       "  0.8870000243186951,\n",
       "  0.897599995136261,\n",
       "  0.8830000162124634,\n",
       "  0.8906000256538391,\n",
       "  0.8925999999046326,\n",
       "  0.8848000168800354,\n",
       "  0.8934000134468079,\n",
       "  0.8960000276565552,\n",
       "  0.8942000269889832,\n",
       "  0.9003999829292297,\n",
       "  0.8917999863624573,\n",
       "  0.9028000235557556,\n",
       "  0.8888000249862671,\n",
       "  0.88919997215271,\n",
       "  0.8939999938011169,\n",
       "  0.8870000243186951,\n",
       "  0.8978000283241272,\n",
       "  0.8939999938011169,\n",
       "  0.8924000263214111,\n",
       "  0.8960000276565552,\n",
       "  0.895799994468689,\n",
       "  0.8853999972343445,\n",
       "  0.8949999809265137],\n",
       " 'loss': [0.22633037978085604,\n",
       "  0.22258888938101856,\n",
       "  0.2183773512428457,\n",
       "  0.214731768255884,\n",
       "  0.21252071513262663,\n",
       "  0.20877899899482727,\n",
       "  0.2045373953147368,\n",
       "  0.20195259210413152,\n",
       "  0.1997289862502705,\n",
       "  0.19590811724148013,\n",
       "  0.19299763767936012,\n",
       "  0.19016333409222688,\n",
       "  0.1873890202944929,\n",
       "  0.18443600261211396,\n",
       "  0.18179323862303387,\n",
       "  0.1793358795447783,\n",
       "  0.1769052723386071,\n",
       "  0.17289961953975938,\n",
       "  0.17161358380480246,\n",
       "  0.16866846640651875,\n",
       "  0.16560537694963542,\n",
       "  0.16342801756587896,\n",
       "  0.16072924443591724,\n",
       "  0.15723727871396326,\n",
       "  0.15576432816657154,\n",
       "  0.1537495892004533,\n",
       "  0.1505807737586173,\n",
       "  0.1482082348856059,\n",
       "  0.14599162857451223,\n",
       "  0.14333259254585612],\n",
       " 'accuracy': [0.91958183,\n",
       "  0.9202909,\n",
       "  0.9218364,\n",
       "  0.9228727,\n",
       "  0.92341816,\n",
       "  0.9264182,\n",
       "  0.92710906,\n",
       "  0.9286364,\n",
       "  0.92874545,\n",
       "  0.93054545,\n",
       "  0.9310909,\n",
       "  0.93227273,\n",
       "  0.9329091,\n",
       "  0.9356,\n",
       "  0.93527275,\n",
       "  0.93643636,\n",
       "  0.9377091,\n",
       "  0.93834543,\n",
       "  0.94014543,\n",
       "  0.9393091,\n",
       "  0.94110906,\n",
       "  0.9415454,\n",
       "  0.9439091,\n",
       "  0.9449818,\n",
       "  0.9452182,\n",
       "  0.9464909,\n",
       "  0.9476909,\n",
       "  0.9478545,\n",
       "  0.94821817,\n",
       "  0.9495091]}"
      ]
     },
     "execution_count": 21,
     "metadata": {},
     "output_type": "execute_result"
    }
   ],
   "source": [
    "history.history"
   ]
  },
  {
   "cell_type": "code",
   "execution_count": 22,
   "metadata": {},
   "outputs": [
    {
     "name": "stdout",
     "output_type": "stream",
     "text": [
      "10000/10000 [==============================] - 0s 40us/step\n"
     ]
    },
    {
     "data": {
      "text/plain": [
       "[91.15792224121094, 0.8238999843597412]"
      ]
     },
     "execution_count": 22,
     "metadata": {},
     "output_type": "execute_result"
    }
   ],
   "source": [
    "model.evaluate(X_test, y_test)"
   ]
  },
  {
   "cell_type": "code",
   "execution_count": null,
   "metadata": {},
   "outputs": [],
   "source": []
  }
 ],
 "metadata": {
  "kernelspec": {
   "display_name": "Python 3",
   "language": "python",
   "name": "python3"
  },
  "language_info": {
   "codemirror_mode": {
    "name": "ipython",
    "version": 3
   },
   "file_extension": ".py",
   "mimetype": "text/x-python",
   "name": "python",
   "nbconvert_exporter": "python",
   "pygments_lexer": "ipython3",
   "version": "3.7.7"
  }
 },
 "nbformat": 4,
 "nbformat_minor": 4
}
